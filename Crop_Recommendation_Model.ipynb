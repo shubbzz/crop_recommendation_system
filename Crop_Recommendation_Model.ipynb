{
 "cells": [
  {
   "cell_type": "code",
   "execution_count": 1,
   "metadata": {},
   "outputs": [
    {
     "name": "stdout",
     "output_type": "stream",
     "text": [
      "importing Jupyter notebook from weather_predict.ipynb\n"
     ]
    }
   ],
   "source": [
    "# Importing libraries\n",
    "import import_ipynb\n",
    "import weather_predict\n",
    "from __future__ import print_function\n",
    "import pandas as pd\n",
    "import numpy as np\n",
    "import matplotlib.pyplot as plt\n",
    "import seaborn as sns\n",
    "from sklearn.metrics import classification_report\n",
    "from sklearn import metrics\n",
    "from sklearn import tree\n",
    "import warnings\n",
    "warnings.filterwarnings('ignore')"
   ]
  },
  {
   "cell_type": "code",
   "execution_count": 2,
   "metadata": {},
   "outputs": [],
   "source": [
    "df = pd.read_csv('data sets/crop_recommendation.csv')"
   ]
  },
  {
   "cell_type": "code",
   "execution_count": 3,
   "metadata": {},
   "outputs": [
    {
     "data": {
      "text/html": [
       "<div>\n",
       "<style scoped>\n",
       "    .dataframe tbody tr th:only-of-type {\n",
       "        vertical-align: middle;\n",
       "    }\n",
       "\n",
       "    .dataframe tbody tr th {\n",
       "        vertical-align: top;\n",
       "    }\n",
       "\n",
       "    .dataframe thead th {\n",
       "        text-align: right;\n",
       "    }\n",
       "</style>\n",
       "<table border=\"1\" class=\"dataframe\">\n",
       "  <thead>\n",
       "    <tr style=\"text-align: right;\">\n",
       "      <th></th>\n",
       "      <th>N</th>\n",
       "      <th>P</th>\n",
       "      <th>K</th>\n",
       "      <th>temperature</th>\n",
       "      <th>humidity</th>\n",
       "      <th>ph</th>\n",
       "      <th>rainfall</th>\n",
       "      <th>label</th>\n",
       "    </tr>\n",
       "  </thead>\n",
       "  <tbody>\n",
       "    <tr>\n",
       "      <th>0</th>\n",
       "      <td>91</td>\n",
       "      <td>94</td>\n",
       "      <td>46</td>\n",
       "      <td>29.367924</td>\n",
       "      <td>76.249001</td>\n",
       "      <td>6.149934</td>\n",
       "      <td>92.828409</td>\n",
       "      <td>arecanut</td>\n",
       "    </tr>\n",
       "    <tr>\n",
       "      <th>1</th>\n",
       "      <td>105</td>\n",
       "      <td>95</td>\n",
       "      <td>50</td>\n",
       "      <td>27.333690</td>\n",
       "      <td>83.676752</td>\n",
       "      <td>5.849076</td>\n",
       "      <td>101.049479</td>\n",
       "      <td>arecanut</td>\n",
       "    </tr>\n",
       "    <tr>\n",
       "      <th>2</th>\n",
       "      <td>108</td>\n",
       "      <td>92</td>\n",
       "      <td>53</td>\n",
       "      <td>27.400536</td>\n",
       "      <td>82.962213</td>\n",
       "      <td>6.276800</td>\n",
       "      <td>104.937800</td>\n",
       "      <td>arecanut</td>\n",
       "    </tr>\n",
       "    <tr>\n",
       "      <th>3</th>\n",
       "      <td>86</td>\n",
       "      <td>76</td>\n",
       "      <td>54</td>\n",
       "      <td>29.315908</td>\n",
       "      <td>80.115857</td>\n",
       "      <td>5.926825</td>\n",
       "      <td>90.109781</td>\n",
       "      <td>arecanut</td>\n",
       "    </tr>\n",
       "    <tr>\n",
       "      <th>4</th>\n",
       "      <td>80</td>\n",
       "      <td>77</td>\n",
       "      <td>49</td>\n",
       "      <td>26.054330</td>\n",
       "      <td>79.396545</td>\n",
       "      <td>5.519088</td>\n",
       "      <td>113.229737</td>\n",
       "      <td>arecanut</td>\n",
       "    </tr>\n",
       "  </tbody>\n",
       "</table>\n",
       "</div>"
      ],
      "text/plain": [
       "     N   P   K  temperature   humidity        ph    rainfall     label\n",
       "0   91  94  46    29.367924  76.249001  6.149934   92.828409  arecanut\n",
       "1  105  95  50    27.333690  83.676752  5.849076  101.049479  arecanut\n",
       "2  108  92  53    27.400536  82.962213  6.276800  104.937800  arecanut\n",
       "3   86  76  54    29.315908  80.115857  5.926825   90.109781  arecanut\n",
       "4   80  77  49    26.054330  79.396545  5.519088  113.229737  arecanut"
      ]
     },
     "execution_count": 3,
     "metadata": {},
     "output_type": "execute_result"
    }
   ],
   "source": [
    "df.head()"
   ]
  },
  {
   "cell_type": "code",
   "execution_count": 4,
   "metadata": {},
   "outputs": [
    {
     "data": {
      "text/html": [
       "<div>\n",
       "<style scoped>\n",
       "    .dataframe tbody tr th:only-of-type {\n",
       "        vertical-align: middle;\n",
       "    }\n",
       "\n",
       "    .dataframe tbody tr th {\n",
       "        vertical-align: top;\n",
       "    }\n",
       "\n",
       "    .dataframe thead th {\n",
       "        text-align: right;\n",
       "    }\n",
       "</style>\n",
       "<table border=\"1\" class=\"dataframe\">\n",
       "  <thead>\n",
       "    <tr style=\"text-align: right;\">\n",
       "      <th></th>\n",
       "      <th>N</th>\n",
       "      <th>P</th>\n",
       "      <th>K</th>\n",
       "      <th>temperature</th>\n",
       "      <th>humidity</th>\n",
       "      <th>ph</th>\n",
       "      <th>rainfall</th>\n",
       "      <th>label</th>\n",
       "    </tr>\n",
       "  </thead>\n",
       "  <tbody>\n",
       "    <tr>\n",
       "      <th>2195</th>\n",
       "      <td>107</td>\n",
       "      <td>34</td>\n",
       "      <td>32</td>\n",
       "      <td>26.774637</td>\n",
       "      <td>66.413269</td>\n",
       "      <td>6.780064</td>\n",
       "      <td>118.516338</td>\n",
       "      <td>wheat</td>\n",
       "    </tr>\n",
       "    <tr>\n",
       "      <th>2196</th>\n",
       "      <td>99</td>\n",
       "      <td>15</td>\n",
       "      <td>27</td>\n",
       "      <td>27.417112</td>\n",
       "      <td>56.636362</td>\n",
       "      <td>6.086922</td>\n",
       "      <td>85.283073</td>\n",
       "      <td>wheat</td>\n",
       "    </tr>\n",
       "    <tr>\n",
       "      <th>2197</th>\n",
       "      <td>118</td>\n",
       "      <td>33</td>\n",
       "      <td>30</td>\n",
       "      <td>24.131797</td>\n",
       "      <td>67.225123</td>\n",
       "      <td>6.362608</td>\n",
       "      <td>115.548559</td>\n",
       "      <td>wheat</td>\n",
       "    </tr>\n",
       "    <tr>\n",
       "      <th>2198</th>\n",
       "      <td>117</td>\n",
       "      <td>32</td>\n",
       "      <td>34</td>\n",
       "      <td>26.272418</td>\n",
       "      <td>52.127394</td>\n",
       "      <td>6.758793</td>\n",
       "      <td>84.783529</td>\n",
       "      <td>wheat</td>\n",
       "    </tr>\n",
       "    <tr>\n",
       "      <th>2199</th>\n",
       "      <td>104</td>\n",
       "      <td>18</td>\n",
       "      <td>30</td>\n",
       "      <td>23.603016</td>\n",
       "      <td>60.396475</td>\n",
       "      <td>6.779833</td>\n",
       "      <td>93.958028</td>\n",
       "      <td>wheat</td>\n",
       "    </tr>\n",
       "  </tbody>\n",
       "</table>\n",
       "</div>"
      ],
      "text/plain": [
       "        N   P   K  temperature   humidity        ph    rainfall  label\n",
       "2195  107  34  32    26.774637  66.413269  6.780064  118.516338  wheat\n",
       "2196   99  15  27    27.417112  56.636362  6.086922   85.283073  wheat\n",
       "2197  118  33  30    24.131797  67.225123  6.362608  115.548559  wheat\n",
       "2198  117  32  34    26.272418  52.127394  6.758793   84.783529  wheat\n",
       "2199  104  18  30    23.603016  60.396475  6.779833   93.958028  wheat"
      ]
     },
     "execution_count": 4,
     "metadata": {},
     "output_type": "execute_result"
    }
   ],
   "source": [
    "df.tail()"
   ]
  },
  {
   "cell_type": "code",
   "execution_count": 5,
   "metadata": {},
   "outputs": [
    {
     "data": {
      "text/plain": [
       "17600"
      ]
     },
     "execution_count": 5,
     "metadata": {},
     "output_type": "execute_result"
    }
   ],
   "source": [
    "df.size"
   ]
  },
  {
   "cell_type": "code",
   "execution_count": 6,
   "metadata": {},
   "outputs": [
    {
     "data": {
      "text/plain": [
       "(2200, 8)"
      ]
     },
     "execution_count": 6,
     "metadata": {},
     "output_type": "execute_result"
    }
   ],
   "source": [
    "df.shape"
   ]
  },
  {
   "cell_type": "code",
   "execution_count": 7,
   "metadata": {},
   "outputs": [
    {
     "data": {
      "text/plain": [
       "Index(['N', 'P', 'K', 'temperature', 'humidity', 'ph', 'rainfall', 'label'], dtype='object')"
      ]
     },
     "execution_count": 7,
     "metadata": {},
     "output_type": "execute_result"
    }
   ],
   "source": [
    "df.columns"
   ]
  },
  {
   "cell_type": "code",
   "execution_count": 8,
   "metadata": {},
   "outputs": [
    {
     "data": {
      "text/plain": [
       "array(['arecanut', 'arhar/tur dal', 'coconut', 'cotton', 'cowpea', 'gram',\n",
       "       'groundnut', 'horsegram', 'jowar', 'maize', 'moong dal', 'onion',\n",
       "       'potato', 'ragi', 'rice', 'soyabean', 'sugarcane', 'sunflower',\n",
       "       'sweet potato', 'turmeric', 'urad', 'wheat'], dtype=object)"
      ]
     },
     "execution_count": 8,
     "metadata": {},
     "output_type": "execute_result"
    }
   ],
   "source": [
    "df['label'].unique()"
   ]
  },
  {
   "cell_type": "code",
   "execution_count": 9,
   "metadata": {},
   "outputs": [
    {
     "data": {
      "text/plain": [
       "N                int64\n",
       "P                int64\n",
       "K                int64\n",
       "temperature    float64\n",
       "humidity       float64\n",
       "ph             float64\n",
       "rainfall       float64\n",
       "label           object\n",
       "dtype: object"
      ]
     },
     "execution_count": 9,
     "metadata": {},
     "output_type": "execute_result"
    }
   ],
   "source": [
    "df.dtypes"
   ]
  },
  {
   "cell_type": "code",
   "execution_count": 10,
   "metadata": {},
   "outputs": [
    {
     "data": {
      "text/plain": [
       "arecanut         100\n",
       "arhar/tur dal    100\n",
       "urad             100\n",
       "turmeric         100\n",
       "sweet potato     100\n",
       "sunflower        100\n",
       "sugarcane        100\n",
       "soyabean         100\n",
       "rice             100\n",
       "ragi             100\n",
       "potato           100\n",
       "onion            100\n",
       "moong dal        100\n",
       "maize            100\n",
       "jowar            100\n",
       "horsegram        100\n",
       "groundnut        100\n",
       "gram             100\n",
       "cowpea           100\n",
       "cotton           100\n",
       "coconut          100\n",
       "wheat            100\n",
       "Name: label, dtype: int64"
      ]
     },
     "execution_count": 10,
     "metadata": {},
     "output_type": "execute_result"
    }
   ],
   "source": [
    "df['label'].value_counts()"
   ]
  },
  {
   "cell_type": "code",
   "execution_count": 11,
   "metadata": {},
   "outputs": [
    {
     "data": {
      "text/plain": [
       "<AxesSubplot:>"
      ]
     },
     "execution_count": 11,
     "metadata": {},
     "output_type": "execute_result"
    },
    {
     "data": {
      "image/png": "[encoded data removed]",
      "text/plain": [
       "<Figure size 432x288 with 2 Axes>"
      ]
     },
     "metadata": {
      "needs_background": "light"
     },
     "output_type": "display_data"
    }
   ],
   "source": [
    "sns.heatmap(df.corr(),annot=True)"
   ]
  },
  {
   "cell_type": "markdown",
   "metadata": {},
   "source": [
    "### Seperating features and target label"
   ]
  },
  {
   "cell_type": "code",
   "execution_count": 12,
   "metadata": {},
   "outputs": [],
   "source": [
    "features = df[['N', 'P','K','temperature', 'humidity', 'ph', 'rainfall']]\n",
    "target = df['label']\n",
    "labels = df['label']\n",
    "# print(type(df))"
   ]
  },
  {
   "cell_type": "code",
   "execution_count": 13,
   "metadata": {},
   "outputs": [],
   "source": [
    "# Initialzing empty lists to append all model's name and corresponding name\n",
    "acc = []\n",
    "model = []"
   ]
  },
  {
   "cell_type": "code",
   "execution_count": 14,
   "metadata": {},
   "outputs": [
    {
     "name": "stdout",
     "output_type": "stream",
     "text": [
      "1936     turmeric\n",
      "610     groundnut\n",
      "372        cotton\n",
      "1559     soyabean\n",
      "1500     soyabean\n",
      "          ...    \n",
      "1071    moong dal\n",
      "433        cowpea\n",
      "674     groundnut\n",
      "1099    moong dal\n",
      "1608    sugarcane\n",
      "Name: label, Length: 1760, dtype: object\n"
     ]
    }
   ],
   "source": [
    "# Splitting into train and test data\n",
    "\n",
    "from sklearn.model_selection import train_test_split\n",
    "Xtrain, Xtest, Ytrain, Ytest = train_test_split(features,target,test_size = 0.2,random_state =2)\n",
    "print(Ytrain)"
   ]
  },
  {
   "cell_type": "markdown",
   "metadata": {},
   "source": [
    "# Decision Tree"
   ]
  },
  {
   "cell_type": "code",
   "execution_count": 15,
   "metadata": {},
   "outputs": [
    {
     "name": "stdout",
     "output_type": "stream",
     "text": [
      "DecisionTrees's Accuracy is:  93.63636363636364\n",
      "               precision    recall  f1-score   support\n",
      "\n",
      "     arecanut       0.94      1.00      0.97        16\n",
      "arhar/tur dal       0.83      0.95      0.89        21\n",
      "      coconut       1.00      1.00      1.00        21\n",
      "       cotton       1.00      1.00      1.00        14\n",
      "       cowpea       1.00      1.00      1.00        18\n",
      "         gram       0.86      0.95      0.90        19\n",
      "    groundnut       1.00      0.96      0.98        24\n",
      "    horsegram       0.90      0.56      0.69        16\n",
      "        jowar       1.00      1.00      1.00        23\n",
      "        maize       0.74      1.00      0.85        17\n",
      "    moong dal       1.00      1.00      1.00        17\n",
      "        onion       1.00      1.00      1.00        26\n",
      "       potato       1.00      0.33      0.50        18\n",
      "         ragi       1.00      1.00      1.00        15\n",
      "         rice       0.66      1.00      0.79        23\n",
      "     soyabean       1.00      0.77      0.87        13\n",
      "    sugarcane       1.00      1.00      1.00        29\n",
      "    sunflower       1.00      1.00      1.00        19\n",
      " sweet potato       1.00      0.95      0.98        21\n",
      "     turmeric       1.00      1.00      1.00        20\n",
      "         urad       0.97      1.00      0.98        28\n",
      "        wheat       1.00      0.91      0.95        22\n",
      "\n",
      "     accuracy                           0.94       440\n",
      "    macro avg       0.95      0.93      0.93       440\n",
      " weighted avg       0.95      0.94      0.93       440\n",
      "\n"
     ]
    }
   ],
   "source": [
    "from sklearn.tree import DecisionTreeClassifier\n",
    "\n",
    "DecisionTree = DecisionTreeClassifier(criterion=\"entropy\",random_state=2,max_depth=5)\n",
    "DecisionTree.fit(Xtrain,Ytrain)\n",
    "\n",
    "predicted_values = DecisionTree.predict(Xtest)\n",
    "x = metrics.accuracy_score(Ytest, predicted_values)\n",
    "acc.append(x)\n",
    "model.append('Decision Tree')\n",
    "print(\"DecisionTrees's Accuracy is: \", x*100)\n",
    "\n",
    "print(classification_report(Ytest,predicted_values))"
   ]
  },
  {
   "cell_type": "code",
   "execution_count": 16,
   "metadata": {},
   "outputs": [],
   "source": [
    "from sklearn.model_selection import cross_val_score"
   ]
  },
  {
   "cell_type": "code",
   "execution_count": 17,
   "metadata": {},
   "outputs": [],
   "source": [
    "# Cross validation score (Decision Tree)\n",
    "score = cross_val_score(DecisionTree, features, target,cv=5)"
   ]
  },
  {
   "cell_type": "code",
   "execution_count": 18,
   "metadata": {},
   "outputs": [
    {
     "data": {
      "text/plain": [
       "array([0.93636364, 0.90909091, 0.91818182, 0.87045455, 0.93636364])"
      ]
     },
     "execution_count": 18,
     "metadata": {},
     "output_type": "execute_result"
    }
   ],
   "source": [
    "score"
   ]
  },
  {
   "cell_type": "markdown",
   "metadata": {},
   "source": [
    "### Saving trained Decision Tree model"
   ]
  },
  {
   "cell_type": "code",
   "execution_count": 19,
   "metadata": {},
   "outputs": [],
   "source": [
    "import pickle\n",
    "# Dump the trained Naive Bayes classifier with Pickle\n",
    "DT_pkl_filename = 'models/DecisionTree.pkl'\n",
    "# Open the file to save as pkl file\n",
    "DT_Model_pkl = open(DT_pkl_filename, 'wb')\n",
    "pickle.dump(DecisionTree, DT_Model_pkl)\n",
    "# Close the pickle instances\n",
    "DT_Model_pkl.close()"
   ]
  },
  {
   "cell_type": "markdown",
   "metadata": {},
   "source": [
    "# Guassian Naive Bayes"
   ]
  },
  {
   "cell_type": "code",
   "execution_count": 20,
   "metadata": {},
   "outputs": [
    {
     "name": "stdout",
     "output_type": "stream",
     "text": [
      "Naive Bayes's Accuracy is:  0.9954545454545455\n",
      "               precision    recall  f1-score   support\n",
      "\n",
      "     arecanut       1.00      1.00      1.00        16\n",
      "arhar/tur dal       1.00      1.00      1.00        21\n",
      "      coconut       1.00      1.00      1.00        21\n",
      "       cotton       1.00      1.00      1.00        14\n",
      "       cowpea       1.00      1.00      1.00        18\n",
      "         gram       1.00      1.00      1.00        19\n",
      "    groundnut       1.00      1.00      1.00        24\n",
      "    horsegram       1.00      1.00      1.00        16\n",
      "        jowar       1.00      1.00      1.00        23\n",
      "        maize       1.00      1.00      1.00        17\n",
      "    moong dal       1.00      1.00      1.00        17\n",
      "        onion       1.00      1.00      1.00        26\n",
      "       potato       0.90      1.00      0.95        18\n",
      "         ragi       1.00      1.00      1.00        15\n",
      "         rice       1.00      0.91      0.95        23\n",
      "     soyabean       1.00      1.00      1.00        13\n",
      "    sugarcane       1.00      1.00      1.00        29\n",
      "    sunflower       1.00      1.00      1.00        19\n",
      " sweet potato       1.00      1.00      1.00        21\n",
      "     turmeric       1.00      1.00      1.00        20\n",
      "         urad       1.00      1.00      1.00        28\n",
      "        wheat       1.00      1.00      1.00        22\n",
      "\n",
      "     accuracy                           1.00       440\n",
      "    macro avg       1.00      1.00      1.00       440\n",
      " weighted avg       1.00      1.00      1.00       440\n",
      "\n"
     ]
    }
   ],
   "source": [
    "from sklearn.naive_bayes import GaussianNB\n",
    "\n",
    "NaiveBayes = GaussianNB()\n",
    "\n",
    "NaiveBayes.fit(Xtrain,Ytrain)\n",
    "\n",
    "predicted_values = NaiveBayes.predict(Xtest)\n",
    "x = metrics.accuracy_score(Ytest, predicted_values)\n",
    "acc.append(x)\n",
    "model.append('Naive Bayes')\n",
    "print(\"Naive Bayes's Accuracy is: \", x)\n",
    "\n",
    "print(classification_report(Ytest,predicted_values))"
   ]
  },
  {
   "cell_type": "code",
   "execution_count": 21,
   "metadata": {},
   "outputs": [
    {
     "data": {
      "text/plain": [
       "array([0.99772727, 0.99545455, 0.99545455, 0.99545455, 0.99090909])"
      ]
     },
     "execution_count": 21,
     "metadata": {},
     "output_type": "execute_result"
    }
   ],
   "source": [
    "# Cross validation score (NaiveBayes)\n",
    "score = cross_val_score(NaiveBayes,features,target,cv=5)\n",
    "score"
   ]
  },
  {
   "cell_type": "markdown",
   "metadata": {},
   "source": [
    "### Saving trained Guassian Naive Bayes model"
   ]
  },
  {
   "cell_type": "code",
   "execution_count": 22,
   "metadata": {},
   "outputs": [],
   "source": [
    "import pickle\n",
    "# Dump the trained Naive Bayes classifier with Pickle\n",
    "NB_pkl_filename = 'models/NBClassifier.pkl'\n",
    "# Open the file to save as pkl file\n",
    "NB_Model_pkl = open(NB_pkl_filename, 'wb')\n",
    "pickle.dump(NaiveBayes, NB_Model_pkl)\n",
    "# Close the pickle instances\n",
    "NB_Model_pkl.close()"
   ]
  },
  {
   "cell_type": "markdown",
   "metadata": {},
   "source": [
    "# Support Vector Machine (SVM)"
   ]
  },
  {
   "cell_type": "code",
   "execution_count": 23,
   "metadata": {},
   "outputs": [
    {
     "name": "stdout",
     "output_type": "stream",
     "text": [
      "SVM's Accuracy is:  0.9818181818181818\n",
      "               precision    recall  f1-score   support\n",
      "\n",
      "     arecanut       1.00      1.00      1.00        16\n",
      "arhar/tur dal       0.95      1.00      0.98        21\n",
      "      coconut       1.00      1.00      1.00        21\n",
      "       cotton       0.93      1.00      0.97        14\n",
      "       cowpea       1.00      1.00      1.00        18\n",
      "         gram       1.00      0.95      0.97        19\n",
      "    groundnut       1.00      1.00      1.00        24\n",
      "    horsegram       1.00      1.00      1.00        16\n",
      "        jowar       1.00      1.00      1.00        23\n",
      "        maize       1.00      0.94      0.97        17\n",
      "    moong dal       1.00      1.00      1.00        17\n",
      "        onion       1.00      1.00      1.00        26\n",
      "       potato       0.82      1.00      0.90        18\n",
      "         ragi       1.00      1.00      1.00        15\n",
      "         rice       1.00      0.83      0.90        23\n",
      "     soyabean       0.87      1.00      0.93        13\n",
      "    sugarcane       1.00      1.00      1.00        29\n",
      "    sunflower       1.00      1.00      1.00        19\n",
      " sweet potato       1.00      1.00      1.00        21\n",
      "     turmeric       1.00      1.00      1.00        20\n",
      "         urad       1.00      0.93      0.96        28\n",
      "        wheat       1.00      1.00      1.00        22\n",
      "\n",
      "     accuracy                           0.98       440\n",
      "    macro avg       0.98      0.98      0.98       440\n",
      " weighted avg       0.98      0.98      0.98       440\n",
      "\n"
     ]
    }
   ],
   "source": [
    "from sklearn.svm import SVC\n",
    "# data normalization with sklearn\n",
    "from sklearn.preprocessing import MinMaxScaler\n",
    "# fit scaler on training data\n",
    "norm = MinMaxScaler().fit(Xtrain)\n",
    "X_train_norm = norm.transform(Xtrain)\n",
    "# transform testing dataabs\n",
    "X_test_norm = norm.transform(Xtest)\n",
    "SVM = SVC(kernel='poly', degree=3, C=1)\n",
    "SVM.fit(X_train_norm,Ytrain)\n",
    "predicted_values = SVM.predict(X_test_norm)\n",
    "x = metrics.accuracy_score(Ytest, predicted_values)\n",
    "acc.append(x)\n",
    "model.append('SVM')\n",
    "print(\"SVM's Accuracy is: \", x)\n",
    "\n",
    "print(classification_report(Ytest,predicted_values))"
   ]
  },
  {
   "cell_type": "code",
   "execution_count": 24,
   "metadata": {},
   "outputs": [
    {
     "data": {
      "text/plain": [
       "array([0.98409091, 0.97954545, 0.98863636, 0.98636364, 0.98181818])"
      ]
     },
     "execution_count": 24,
     "metadata": {},
     "output_type": "execute_result"
    }
   ],
   "source": [
    "# Cross validation score (SVM)\n",
    "score = cross_val_score(SVM,features,target,cv=5)\n",
    "score"
   ]
  },
  {
   "cell_type": "code",
   "execution_count": 25,
   "metadata": {},
   "outputs": [],
   "source": [
    "#Saving trained SVM model"
   ]
  },
  {
   "cell_type": "code",
   "execution_count": 26,
   "metadata": {},
   "outputs": [],
   "source": [
    "import pickle\n",
    "# Dump the trained SVM classifier with Pickle\n",
    "SVM_pkl_filename = 'models/SVMClassifier.pkl'\n",
    "# Open the file to save as pkl file\n",
    "SVM_Model_pkl = open(SVM_pkl_filename, 'wb')\n",
    "pickle.dump(SVM, SVM_Model_pkl)\n",
    "# Close the pickle instances\n",
    "SVM_Model_pkl.close()"
   ]
  },
  {
   "cell_type": "markdown",
   "metadata": {},
   "source": [
    "# Logistic Regression"
   ]
  },
  {
   "cell_type": "code",
   "execution_count": 27,
   "metadata": {},
   "outputs": [
    {
     "name": "stdout",
     "output_type": "stream",
     "text": [
      "Logistic Regression's Accuracy is:  0.9704545454545455\n",
      "               precision    recall  f1-score   support\n",
      "\n",
      "     arecanut       1.00      1.00      1.00        16\n",
      "arhar/tur dal       1.00      0.86      0.92        21\n",
      "      coconut       0.95      1.00      0.98        21\n",
      "       cotton       0.93      1.00      0.97        14\n",
      "       cowpea       1.00      1.00      1.00        18\n",
      "         gram       0.90      1.00      0.95        19\n",
      "    groundnut       1.00      1.00      1.00        24\n",
      "    horsegram       0.88      0.88      0.88        16\n",
      "        jowar       1.00      1.00      1.00        23\n",
      "        maize       1.00      0.94      0.97        17\n",
      "    moong dal       0.94      1.00      0.97        17\n",
      "        onion       1.00      1.00      1.00        26\n",
      "       potato       0.83      0.83      0.83        18\n",
      "         ragi       1.00      1.00      1.00        15\n",
      "         rice       0.95      0.87      0.91        23\n",
      "     soyabean       1.00      1.00      1.00        13\n",
      "    sugarcane       1.00      1.00      1.00        29\n",
      "    sunflower       1.00      1.00      1.00        19\n",
      " sweet potato       0.95      0.95      0.95        21\n",
      "     turmeric       1.00      1.00      1.00        20\n",
      "         urad       1.00      1.00      1.00        28\n",
      "        wheat       0.96      1.00      0.98        22\n",
      "\n",
      "     accuracy                           0.97       440\n",
      "    macro avg       0.97      0.97      0.97       440\n",
      " weighted avg       0.97      0.97      0.97       440\n",
      "\n"
     ]
    }
   ],
   "source": [
    "from sklearn.linear_model import LogisticRegression\n",
    "\n",
    "LogReg = LogisticRegression(random_state=2)\n",
    "\n",
    "LogReg.fit(Xtrain,Ytrain)\n",
    "\n",
    "predicted_values = LogReg.predict(Xtest)\n",
    "\n",
    "x = metrics.accuracy_score(Ytest, predicted_values)\n",
    "acc.append(x)\n",
    "model.append('Logistic Regression')\n",
    "print(\"Logistic Regression's Accuracy is: \", x)\n",
    "\n",
    "print(classification_report(Ytest,predicted_values))"
   ]
  },
  {
   "cell_type": "code",
   "execution_count": 28,
   "metadata": {},
   "outputs": [
    {
     "data": {
      "text/plain": [
       "array([0.95454545, 0.95909091, 0.96363636, 0.97045455, 0.94318182])"
      ]
     },
     "execution_count": 28,
     "metadata": {},
     "output_type": "execute_result"
    }
   ],
   "source": [
    "# Cross validation score (Logistic Regression)\n",
    "score = cross_val_score(LogReg,features,target,cv=5)\n",
    "score"
   ]
  },
  {
   "cell_type": "markdown",
   "metadata": {},
   "source": [
    "### Saving trained Logistic Regression model"
   ]
  },
  {
   "cell_type": "code",
   "execution_count": 29,
   "metadata": {},
   "outputs": [],
   "source": [
    "import pickle\n",
    "# Dump the trained Naive Bayes classifier with Pickle\n",
    "LR_pkl_filename = 'models/LogisticRegression.pkl'\n",
    "# Open the file to save as pkl file\n",
    "LR_Model_pkl = open(DT_pkl_filename, 'wb')\n",
    "pickle.dump(LogReg, LR_Model_pkl)\n",
    "# Close the pickle instances\n",
    "LR_Model_pkl.close()"
   ]
  },
  {
   "cell_type": "markdown",
   "metadata": {},
   "source": [
    "# Random Forest"
   ]
  },
  {
   "cell_type": "code",
   "execution_count": 30,
   "metadata": {},
   "outputs": [
    {
     "name": "stdout",
     "output_type": "stream",
     "text": [
      "RF's Accuracy is:  0.9954545454545455\n",
      "               precision    recall  f1-score   support\n",
      "\n",
      "     arecanut       1.00      1.00      1.00        16\n",
      "arhar/tur dal       1.00      1.00      1.00        21\n",
      "      coconut       1.00      1.00      1.00        21\n",
      "       cotton       1.00      1.00      1.00        14\n",
      "       cowpea       1.00      1.00      1.00        18\n",
      "         gram       1.00      1.00      1.00        19\n",
      "    groundnut       1.00      1.00      1.00        24\n",
      "    horsegram       1.00      1.00      1.00        16\n",
      "        jowar       1.00      1.00      1.00        23\n",
      "        maize       1.00      1.00      1.00        17\n",
      "    moong dal       1.00      1.00      1.00        17\n",
      "        onion       1.00      1.00      1.00        26\n",
      "       potato       0.90      1.00      0.95        18\n",
      "         ragi       1.00      1.00      1.00        15\n",
      "         rice       1.00      0.91      0.95        23\n",
      "     soyabean       1.00      1.00      1.00        13\n",
      "    sugarcane       1.00      1.00      1.00        29\n",
      "    sunflower       1.00      1.00      1.00        19\n",
      " sweet potato       1.00      1.00      1.00        21\n",
      "     turmeric       1.00      1.00      1.00        20\n",
      "         urad       1.00      1.00      1.00        28\n",
      "        wheat       1.00      1.00      1.00        22\n",
      "\n",
      "     accuracy                           1.00       440\n",
      "    macro avg       1.00      1.00      1.00       440\n",
      " weighted avg       1.00      1.00      1.00       440\n",
      "\n"
     ]
    }
   ],
   "source": [
    "from sklearn.ensemble import RandomForestClassifier\n",
    "\n",
    "RF = RandomForestClassifier(n_estimators=20, random_state=0)\n",
    "RF.fit(Xtrain,Ytrain)\n",
    "\n",
    "predicted_values = RF.predict(Xtest)\n",
    "\n",
    "x = metrics.accuracy_score(Ytest, predicted_values)\n",
    "acc.append(x)\n",
    "model.append('RF')\n",
    "print(\"RF's Accuracy is: \", x)\n",
    "\n",
    "print(classification_report(Ytest,predicted_values))"
   ]
  },
  {
   "cell_type": "code",
   "execution_count": 31,
   "metadata": {},
   "outputs": [
    {
     "data": {
      "text/plain": [
       "array([0.99772727, 0.99772727, 0.99545455, 0.99545455, 0.98863636])"
      ]
     },
     "execution_count": 31,
     "metadata": {},
     "output_type": "execute_result"
    }
   ],
   "source": [
    "# Cross validation score (Random Forest)\n",
    "score = cross_val_score(RF,features,target,cv=5)\n",
    "score"
   ]
  },
  {
   "cell_type": "markdown",
   "metadata": {},
   "source": [
    "### Saving trained Random Forest model"
   ]
  },
  {
   "cell_type": "code",
   "execution_count": 32,
   "metadata": {},
   "outputs": [],
   "source": [
    "import pickle\n",
    "# Dump the trained Naive Bayes classifier with Pickle\n",
    "RF_pkl_filename = 'models/RandomForest.pkl'\n",
    "# Open the file to save as pkl file\n",
    "RF_Model_pkl = open(RF_pkl_filename, 'wb')\n",
    "pickle.dump(RF, RF_Model_pkl)\n",
    "# Close the pickle instances\n",
    "RF_Model_pkl.close()"
   ]
  },
  {
   "cell_type": "markdown",
   "metadata": {},
   "source": [
    "# XGBoost"
   ]
  },
  {
   "cell_type": "code",
   "execution_count": 33,
   "metadata": {
    "scrolled": true
   },
   "outputs": [
    {
     "name": "stdout",
     "output_type": "stream",
     "text": [
      "XGBoost's Accuracy is:  0.9954545454545455\n",
      "               precision    recall  f1-score   support\n",
      "\n",
      "     arecanut       1.00      1.00      1.00        16\n",
      "arhar/tur dal       1.00      1.00      1.00        21\n",
      "      coconut       1.00      1.00      1.00        21\n",
      "       cotton       1.00      1.00      1.00        14\n",
      "       cowpea       1.00      1.00      1.00        18\n",
      "         gram       1.00      1.00      1.00        19\n",
      "    groundnut       1.00      1.00      1.00        24\n",
      "    horsegram       1.00      1.00      1.00        16\n",
      "        jowar       1.00      1.00      1.00        23\n",
      "        maize       1.00      1.00      1.00        17\n",
      "    moong dal       1.00      1.00      1.00        17\n",
      "        onion       1.00      1.00      1.00        26\n",
      "       potato       0.95      1.00      0.97        18\n",
      "         ragi       1.00      1.00      1.00        15\n",
      "         rice       0.96      0.96      0.96        23\n",
      "     soyabean       1.00      1.00      1.00        13\n",
      "    sugarcane       1.00      1.00      1.00        29\n",
      "    sunflower       1.00      1.00      1.00        19\n",
      " sweet potato       1.00      0.95      0.98        21\n",
      "     turmeric       1.00      1.00      1.00        20\n",
      "         urad       1.00      1.00      1.00        28\n",
      "        wheat       1.00      1.00      1.00        22\n",
      "\n",
      "     accuracy                           1.00       440\n",
      "    macro avg       1.00      1.00      1.00       440\n",
      " weighted avg       1.00      1.00      1.00       440\n",
      "\n"
     ]
    }
   ],
   "source": [
    "import xgboost as xgb\n",
    "XB = xgb.XGBClassifier()\n",
    "XB.fit(Xtrain.values,Ytrain.values)\n",
    "predicted_values = XB.predict(Xtest.values)\n",
    "x = metrics.accuracy_score(Ytest.values, predicted_values)\n",
    "acc.append(x)\n",
    "model.append('XGBoost')\n",
    "print(\"XGBoost's Accuracy is: \", x)\n",
    "\n",
    "print(classification_report(Ytest,predicted_values))"
   ]
  },
  {
   "cell_type": "code",
   "execution_count": 34,
   "metadata": {},
   "outputs": [
    {
     "data": {
      "text/plain": [
       "array([0.98636364, 0.99090909, 0.99772727, 0.99090909, 0.98409091])"
      ]
     },
     "execution_count": 34,
     "metadata": {},
     "output_type": "execute_result"
    }
   ],
   "source": [
    "# Cross validation score (XGBoost)\n",
    "score = cross_val_score(XB,features,target,cv=5)\n",
    "score"
   ]
  },
  {
   "cell_type": "markdown",
   "metadata": {},
   "source": [
    "### Saving trained XGBoost model"
   ]
  },
  {
   "cell_type": "code",
   "execution_count": 35,
   "metadata": {},
   "outputs": [],
   "source": [
    "import pickle\n",
    "# Dump the trained Naive Bayes classifier with Pickle\n",
    "XB_pkl_filename = 'models/XGBoost.pkl'\n",
    "# Open the file to save as pkl file\n",
    "XB_Model_pkl = open(XB_pkl_filename, 'wb')\n",
    "pickle.dump(XB, XB_Model_pkl)\n",
    "# Close the pickle instances\n",
    "XB_Model_pkl.close()"
   ]
  },
  {
   "cell_type": "markdown",
   "metadata": {},
   "source": [
    "## Accuracy Comparison"
   ]
  },
  {
   "cell_type": "code",
   "execution_count": 36,
   "metadata": {},
   "outputs": [
    {
     "data": {
      "text/plain": [
       "<AxesSubplot:title={'center':'Accuracy Comparison'}, xlabel='Accuracy', ylabel='Algorithm'>"
      ]
     },
     "execution_count": 36,
     "metadata": {},
     "output_type": "execute_result"
    },
    {
     "data": {
      "image/png": "[encoded data removed]",
      "text/plain": [
       "<Figure size 1000x500 with 1 Axes>"
      ]
     },
     "metadata": {
      "needs_background": "light"
     },
     "output_type": "display_data"
    }
   ],
   "source": [
    "plt.figure(figsize=[10,5],dpi = 100)\n",
    "plt.title('Accuracy Comparison')\n",
    "plt.xlabel('Accuracy')\n",
    "plt.ylabel('Algorithm')\n",
    "sns.barplot(x = acc,y = model,palette='bright')"
   ]
  },
  {
   "cell_type": "code",
   "execution_count": 37,
   "metadata": {},
   "outputs": [
    {
     "name": "stdout",
     "output_type": "stream",
     "text": [
      "Decision Tree --> 0.9363636363636364\n",
      "Naive Bayes --> 0.9954545454545455\n",
      "SVM --> 0.9818181818181818\n",
      "Logistic Regression --> 0.9704545454545455\n",
      "RF --> 0.9954545454545455\n",
      "XGBoost --> 0.9954545454545455\n"
     ]
    }
   ],
   "source": [
    "accuracy_models = dict(zip(model, acc))\n",
    "accuracy_dict={}\n",
    "for k, v in accuracy_models.items():\n",
    "    print (k, '-->', v)\n",
    "    accuracy_dict[k]=v\n",
    "# print(accuracy_dict)"
   ]
  },
  {
   "cell_type": "markdown",
   "metadata": {},
   "source": [
    "## Making a prediction"
   ]
  },
  {
   "cell_type": "code",
   "execution_count": 38,
   "metadata": {},
   "outputs": [
    {
     "name": "stdout",
     "output_type": "stream",
     "text": [
      "['horsegram']\n",
      "['sugarcane']\n",
      "['turmeric']\n",
      "['horsegram']\n",
      "['groundnut']\n",
      "['sugarcane']\n"
     ]
    }
   ],
   "source": [
    "data = np.array([[1,20,36,23.6,70.3,5.6, weather_predict.weather_predic_dist(\"mandya\")[0]]])\n",
    "# data = np.array([[1,20,36,23.6,70.3,5.6, weather_predict.weather_predic_dist(\"mandya\")[0]]])\n",
    "# 1\t27\t36\t23.98598756\t93.34236582\t5.684995235\t104.991282\n",
    "prediction = RF.predict(data)\n",
    "print(prediction)\n",
    "prediction = LogReg.predict(data)\n",
    "print(prediction)\n",
    "prediction = SVM.predict(data)\n",
    "print(prediction)\n",
    "prediction = NaiveBayes.predict(data)\n",
    "print(prediction)\n",
    "prediction = DecisionTree.predict(data)\n",
    "print(prediction)\n",
    "prediction = XB.predict(data)\n",
    "print(prediction)"
   ]
  },
  {
   "cell_type": "markdown",
   "metadata": {},
   "source": [
    "## Crop Fraction Function\n",
    "<h3>gives the fraction of area and production of that particular crop in that particular district</h3>"
   ]
  },
  {
   "cell_type": "code",
   "execution_count": 39,
   "metadata": {},
   "outputs": [],
   "source": [
    "def crop_fraction(dist,crop,sum_prod,sum_area):\n",
    "#     print(dist,crop)\n",
    "    dist_data=pd.read_csv(\"data sets/karnataka production.csv\")\n",
    "    x = [list(row) for row in dist_data.values]\n",
    "    t_production=0\n",
    "    t_area=0\n",
    "    for i in x:\n",
    "        if i[1].lower() == dist.lower() and i[2].lower()==crop.lower():\n",
    "            t_production=i[4]\n",
    "            t_area=i[3]\n",
    "    return(t_production/sum_prod,t_area/sum_area)"
   ]
  },
  {
   "cell_type": "markdown",
   "metadata": {},
   "source": [
    "## Crop Clustering Function\n",
    "<h4>uses clustering coefficient to give make decision when algorithms are unable to come to a single conclusion based on the crop production and area fractions</h4>"
   ]
  },
  {
   "cell_type": "code",
   "execution_count": 52,
   "metadata": {},
   "outputs": [],
   "source": [
    "def crop_clustering(dist,data):\n",
    "    dist_data=pd.read_csv(\"data sets/karnataka production.csv\")\n",
    "    x = [list(row) for row in dist_data.values]\n",
    "    sum_production=0\n",
    "    sum_area=0\n",
    "    for i in x:\n",
    "        if i[1].lower() == dist.lower():\n",
    "            sum_production=sum_production+i[4]\n",
    "            sum_area=sum_area+i[3]\n",
    "    if(sum_production == 0): \n",
    "        print(\"District not found\")\n",
    "        return\n",
    "    model_list=[[DecisionTree,\"Decision Tree\"],[NaiveBayes,\"Naive Bayes\"],[SVM,\"SVM\"],[LogReg,\"Logistic Regression\"],[RF,\"RF\"],[XB,\"XGBoost\"]]\n",
    "#     print(model_list)\n",
    "    dict_pred_crop={}\n",
    "    for x in model_list:\n",
    "        prediction = x[0].predict(data)\n",
    "        prod_frac,area_frac=crop_fraction(dist,prediction[0],sum_production,sum_area)\n",
    "        score=(area_frac+prod_frac)*accuracy_dict[x[1]]/2+accuracy_dict[x[1]]/2\n",
    "        if(prediction[0] not in dict_pred_crop.keys()):\n",
    "            dict_pred_crop[prediction[0]]=score\n",
    "        else:\n",
    "            dict_pred_crop[prediction[0]]+=score\n",
    "    print(dict_pred_crop)\n",
    "    key_crop=max(dict_pred_crop,key=dict_pred_crop.get)\n",
    "    return (key_crop,dict_pred_crop[key_crop])"
   ]
  },
  {
   "cell_type": "markdown",
   "metadata": {},
   "source": [
    "## Make a Final Prediction"
   ]
  },
  {
   "cell_type": "code",
   "execution_count": 60,
   "metadata": {},
   "outputs": [
    {
     "name": "stdout",
     "output_type": "stream",
     "text": [
      "{'groundnut': 0.4884949163609841, 'horsegram': 0.9979730545764097, 'turmeric': 0.4909090909090909, 'sugarcane': 1.4732924282729236}\n"
     ]
    },
    {
     "data": {
      "text/plain": [
       "('sugarcane', 1.4732924282729236)"
      ]
     },
     "execution_count": 60,
     "metadata": {},
     "output_type": "execute_result"
    }
   ],
   "source": [
    "dist=\"davangere\"\n",
    "#                 N , P , K , TEMP , HUMIDITY , pH , RAINFALL\n",
    "data = np.array([[1 , 20, 36, 23.6 , 70.3     , 5.6, weather_predict.weather_predic_dist(dist)[0]]])\n",
    "crop_clustering(dist,data)"
   ]
  },
  {
   "cell_type": "code",
   "execution_count": null,
   "metadata": {},
   "outputs": [],
   "source": []
  }
 ],
 "metadata": {
  "kernelspec": {
   "display_name": "Python 3 (ipykernel)",
   "language": "python",
   "name": "python3"
  },
  "language_info": {
   "codemirror_mode": {
    "name": "ipython",
    "version": 3
   },
   "file_extension": ".py",
   "mimetype": "text/x-python",
   "name": "python",
   "nbconvert_exporter": "python",
   "pygments_lexer": "ipython3",
   "version": "3.9.12"
  }
 },
 "nbformat": 4,
 "nbformat_minor": 4
}
