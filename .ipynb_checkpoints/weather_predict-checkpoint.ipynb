{
 "cells": [
  {
   "cell_type": "code",
   "execution_count": 18,
   "id": "56b4a9b3",
   "metadata": {},
   "outputs": [],
   "source": [
    "import matplotlib.pyplot as plt\n",
    "import pandas as pd\n",
    "import numpy as np"
   ]
  },
  {
   "cell_type": "code",
   "execution_count": 19,
   "id": "ce4b15e1",
   "metadata": {},
   "outputs": [],
   "source": [
    "def learn(x,y,m,c,epoch):\n",
    "    for i in range(epoch):\n",
    "        error=y-(m*x+c)\n",
    "        x_error=(y-(m*x+c))*x\n",
    "        error=np.sum(error)/len(x)\n",
    "        x_error=np.sum(x_error)/len(x_error)\n",
    "        learning_rate=0.01\n",
    "        delta_m=learning_rate*x_error\n",
    "        delta_c=learning_rate*error\n",
    "        m+=delta_m\n",
    "        c+=delta_c\n",
    "    return(m,c)"
   ]
  },
  {
   "cell_type": "code",
   "execution_count": 20,
   "id": "5434f75d",
   "metadata": {},
   "outputs": [],
   "source": [
    "def weather_predic_dist(dist):\n",
    "    dist_data=pd.read_csv(\"District wise karnataka.csv\")\n",
    "    x = [list(row) for row in dist_data.values]\n",
    "    region = None\n",
    "    for i in x:\n",
    "        if i[2].lower() == dist.lower():\n",
    "            region = i[1]\n",
    "            annual_2019=i[3]\n",
    "            kharif_2019=i[5]\n",
    "            rabi_2019=i[4]\n",
    "    if(region == None): \n",
    "        print(\"District not found\")\n",
    "        return\n",
    "#     print(region)\n",
    "    if(region == \"SOUTH INTERIOR KARNATAKA\"):file='South.csv'\n",
    "    if(region == \"COASTAL KARNATAKA\"):file='Coastal.csv'\n",
    "    if(region == \"NORTH INTERIOR KARNATAKA\"):file='North.csv'\n",
    "    data = pd.read_csv(file)\n",
    "    x=data.Year.to_numpy()\n",
    "    ya=data.Annual.to_numpy()\n",
    "    yr=data.Rabi.to_numpy()\n",
    "    yk=data.Kharif.to_numpy()\n",
    "    x=x/2025\n",
    "    yk=yk/2025\n",
    "    yr=yr/2025\n",
    "    ya=ya/2025\n",
    "    m,c = np.random.random(),np.random.random()\n",
    "    ma,ca = learn(x,ya,m,c,20000)\n",
    "    mr,cr=learn(x,yr,m,c,20000)\n",
    "    mk,ck=learn(x,yk,m,c,20000)\n",
    "#     pred_annual_2022=(2022/2025*ma+ca)*2025\n",
    "#     pred_kharif_2022=(2022/2025*mk+ck)*2025\n",
    "#     pred_rabi_2022=(2022/2025*mr+cr)*2025\n",
    "#     pred_annual_2019=(2019/2025*ma+ca)*2025\n",
    "#     pred_kharif_2019=(2019/2025*mk+ck)*2025\n",
    "#     pred_rabi_2019=(2019/2025*mr+cr)*2025\n",
    "#     pred_annual_ratio=pred_annual_2022/pred_annual_2019\n",
    "#     pred_kharif_ratio=pred_kharif_2022/pred_kharif_2019\n",
    "#     pred_rabi_ratio=pred_rabi_2022/pred_rabi_2019\n",
    "#     final_annual_2022=pred_annual_ratio*annual_2019\n",
    "#     final_kharif_2022=pred_kharif_ratio*kharif_2019\n",
    "#     final_rabi_2022=pred_rabi_ratio*rabi_2019\n",
    "    final_annual_2022=(2022/2025*ma+ca)/(2019/2025*ma+ca)*annual_2019     \n",
    "    final_kharif_2022=(2022/2025*ma+ca)/(2019/2025*ma+ca)*kharif_2019     \n",
    "    final_rabi_2022=(2022/2025*ma+ca)/(2019/2025*ma+ca)*rabi_2019\n",
    "#   final_annual_2022,final_kharif_2022,final_rabi_2022)\n",
    "    rainfall=[final_annual_2022,final_kharif_2022,final_rabi_2022]\n",
    "    return rainfall"
   ]
  },
  {
   "cell_type": "code",
   "execution_count": 21,
   "id": "c005c5bc",
   "metadata": {
    "scrolled": true
   },
   "outputs": [
    {
     "name": "stdout",
     "output_type": "stream",
     "text": [
      "[326.93681585904073, 226.1706779000107, 100.76613795903005]\n"
     ]
    }
   ],
   "source": [
    "# print(weather_predic_dist(\"dakshin Kannada\"))"
   ]
  }
 ],
 "metadata": {
  "kernelspec": {
   "display_name": "Python 3 (ipykernel)",
   "language": "python",
   "name": "python3"
  },
  "language_info": {
   "codemirror_mode": {
    "name": "ipython",
    "version": 3
   },
   "file_extension": ".py",
   "mimetype": "text/x-python",
   "name": "python",
   "nbconvert_exporter": "python",
   "pygments_lexer": "ipython3",
   "version": "3.9.12"
  }
 },
 "nbformat": 4,
 "nbformat_minor": 5
}
